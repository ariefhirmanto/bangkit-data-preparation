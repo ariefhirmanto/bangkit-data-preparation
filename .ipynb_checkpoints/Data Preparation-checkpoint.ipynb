{
 "cells": [
  {
   "cell_type": "markdown",
   "metadata": {},
   "source": [
    "# Background"
   ]
  },
  {
   "cell_type": "markdown",
   "metadata": {},
   "source": [
    "Titanic sank in Atlantic ocean has become famous accident in all over the world. The accident even made into the film <i>Titanic</i> in 1997. So many people in Titanic ship become victim of this renowned accident. Many people dies, however there are also people who survived the crash. In this notebook, we want to prepare the dataset for predicting people who survived the accident."
   ]
  },
  {
   "cell_type": "markdown",
   "metadata": {},
   "source": [
    "In this notebook, the target of dataset would be class Survived. We will predict this target variabel after data preprocessing"
   ]
  },
  {
   "cell_type": "markdown",
   "metadata": {},
   "source": [
    "## Import the required library and dataset"
   ]
  },
  {
   "cell_type": "code",
   "execution_count": 48,
   "metadata": {},
   "outputs": [],
   "source": [
    "import pandas as pd\n",
    "import numpy as np\n",
    "import matplotlib.pyplot as plt\n",
    "from sklearn import preprocessing\n",
    "%matplotlib inline"
   ]
  },
  {
   "cell_type": "code",
   "execution_count": 49,
   "metadata": {},
   "outputs": [],
   "source": [
    "training_set = pd.read_csv('train.csv')"
   ]
  },
  {
   "cell_type": "markdown",
   "metadata": {},
   "source": [
    "## Peeking dataset"
   ]
  },
  {
   "cell_type": "code",
   "execution_count": 50,
   "metadata": {},
   "outputs": [
    {
     "data": {
      "text/html": [
       "<div>\n",
       "<style scoped>\n",
       "    .dataframe tbody tr th:only-of-type {\n",
       "        vertical-align: middle;\n",
       "    }\n",
       "\n",
       "    .dataframe tbody tr th {\n",
       "        vertical-align: top;\n",
       "    }\n",
       "\n",
       "    .dataframe thead th {\n",
       "        text-align: right;\n",
       "    }\n",
       "</style>\n",
       "<table border=\"1\" class=\"dataframe\">\n",
       "  <thead>\n",
       "    <tr style=\"text-align: right;\">\n",
       "      <th></th>\n",
       "      <th>PassengerId</th>\n",
       "      <th>Survived</th>\n",
       "      <th>Pclass</th>\n",
       "      <th>Name</th>\n",
       "      <th>Sex</th>\n",
       "      <th>Age</th>\n",
       "      <th>SibSp</th>\n",
       "      <th>Parch</th>\n",
       "      <th>Ticket</th>\n",
       "      <th>Fare</th>\n",
       "      <th>Cabin</th>\n",
       "      <th>Embarked</th>\n",
       "    </tr>\n",
       "  </thead>\n",
       "  <tbody>\n",
       "    <tr>\n",
       "      <th>0</th>\n",
       "      <td>1</td>\n",
       "      <td>0</td>\n",
       "      <td>3</td>\n",
       "      <td>Braund, Mr. Owen Harris</td>\n",
       "      <td>male</td>\n",
       "      <td>22.0</td>\n",
       "      <td>1</td>\n",
       "      <td>0</td>\n",
       "      <td>A/5 21171</td>\n",
       "      <td>7.2500</td>\n",
       "      <td>NaN</td>\n",
       "      <td>S</td>\n",
       "    </tr>\n",
       "    <tr>\n",
       "      <th>1</th>\n",
       "      <td>2</td>\n",
       "      <td>1</td>\n",
       "      <td>1</td>\n",
       "      <td>Cumings, Mrs. John Bradley (Florence Briggs Th...</td>\n",
       "      <td>female</td>\n",
       "      <td>38.0</td>\n",
       "      <td>1</td>\n",
       "      <td>0</td>\n",
       "      <td>PC 17599</td>\n",
       "      <td>71.2833</td>\n",
       "      <td>C85</td>\n",
       "      <td>C</td>\n",
       "    </tr>\n",
       "    <tr>\n",
       "      <th>2</th>\n",
       "      <td>3</td>\n",
       "      <td>1</td>\n",
       "      <td>3</td>\n",
       "      <td>Heikkinen, Miss. Laina</td>\n",
       "      <td>female</td>\n",
       "      <td>26.0</td>\n",
       "      <td>0</td>\n",
       "      <td>0</td>\n",
       "      <td>STON/O2. 3101282</td>\n",
       "      <td>7.9250</td>\n",
       "      <td>NaN</td>\n",
       "      <td>S</td>\n",
       "    </tr>\n",
       "    <tr>\n",
       "      <th>3</th>\n",
       "      <td>4</td>\n",
       "      <td>1</td>\n",
       "      <td>1</td>\n",
       "      <td>Futrelle, Mrs. Jacques Heath (Lily May Peel)</td>\n",
       "      <td>female</td>\n",
       "      <td>35.0</td>\n",
       "      <td>1</td>\n",
       "      <td>0</td>\n",
       "      <td>113803</td>\n",
       "      <td>53.1000</td>\n",
       "      <td>C123</td>\n",
       "      <td>S</td>\n",
       "    </tr>\n",
       "    <tr>\n",
       "      <th>4</th>\n",
       "      <td>5</td>\n",
       "      <td>0</td>\n",
       "      <td>3</td>\n",
       "      <td>Allen, Mr. William Henry</td>\n",
       "      <td>male</td>\n",
       "      <td>35.0</td>\n",
       "      <td>0</td>\n",
       "      <td>0</td>\n",
       "      <td>373450</td>\n",
       "      <td>8.0500</td>\n",
       "      <td>NaN</td>\n",
       "      <td>S</td>\n",
       "    </tr>\n",
       "  </tbody>\n",
       "</table>\n",
       "</div>"
      ],
      "text/plain": [
       "   PassengerId  Survived  Pclass  \\\n",
       "0            1         0       3   \n",
       "1            2         1       1   \n",
       "2            3         1       3   \n",
       "3            4         1       1   \n",
       "4            5         0       3   \n",
       "\n",
       "                                                Name     Sex   Age  SibSp  \\\n",
       "0                            Braund, Mr. Owen Harris    male  22.0      1   \n",
       "1  Cumings, Mrs. John Bradley (Florence Briggs Th...  female  38.0      1   \n",
       "2                             Heikkinen, Miss. Laina  female  26.0      0   \n",
       "3       Futrelle, Mrs. Jacques Heath (Lily May Peel)  female  35.0      1   \n",
       "4                           Allen, Mr. William Henry    male  35.0      0   \n",
       "\n",
       "   Parch            Ticket     Fare Cabin Embarked  \n",
       "0      0         A/5 21171   7.2500   NaN        S  \n",
       "1      0          PC 17599  71.2833   C85        C  \n",
       "2      0  STON/O2. 3101282   7.9250   NaN        S  \n",
       "3      0            113803  53.1000  C123        S  \n",
       "4      0            373450   8.0500   NaN        S  "
      ]
     },
     "execution_count": 50,
     "metadata": {},
     "output_type": "execute_result"
    }
   ],
   "source": [
    "training_set.head()"
   ]
  },
  {
   "cell_type": "code",
   "execution_count": 51,
   "metadata": {},
   "outputs": [
    {
     "data": {
      "text/plain": [
       "(891, 12)"
      ]
     },
     "execution_count": 51,
     "metadata": {},
     "output_type": "execute_result"
    }
   ],
   "source": [
    "training_set.shape"
   ]
  },
  {
   "cell_type": "code",
   "execution_count": 52,
   "metadata": {},
   "outputs": [
    {
     "data": {
      "text/plain": [
       "PassengerId      0\n",
       "Survived         0\n",
       "Pclass           0\n",
       "Name             0\n",
       "Sex              0\n",
       "Age            177\n",
       "SibSp            0\n",
       "Parch            0\n",
       "Ticket           0\n",
       "Fare             0\n",
       "Cabin          687\n",
       "Embarked         2\n",
       "dtype: int64"
      ]
     },
     "execution_count": 52,
     "metadata": {},
     "output_type": "execute_result"
    }
   ],
   "source": [
    "training_set.isnull().sum()"
   ]
  },
  {
   "cell_type": "code",
   "execution_count": 53,
   "metadata": {},
   "outputs": [
    {
     "name": "stdout",
     "output_type": "stream",
     "text": [
      "<class 'pandas.core.frame.DataFrame'>\n",
      "RangeIndex: 891 entries, 0 to 890\n",
      "Data columns (total 12 columns):\n",
      " #   Column       Non-Null Count  Dtype  \n",
      "---  ------       --------------  -----  \n",
      " 0   PassengerId  891 non-null    int64  \n",
      " 1   Survived     891 non-null    int64  \n",
      " 2   Pclass       891 non-null    int64  \n",
      " 3   Name         891 non-null    object \n",
      " 4   Sex          891 non-null    object \n",
      " 5   Age          714 non-null    float64\n",
      " 6   SibSp        891 non-null    int64  \n",
      " 7   Parch        891 non-null    int64  \n",
      " 8   Ticket       891 non-null    object \n",
      " 9   Fare         891 non-null    float64\n",
      " 10  Cabin        204 non-null    object \n",
      " 11  Embarked     889 non-null    object \n",
      "dtypes: float64(2), int64(5), object(5)\n",
      "memory usage: 83.7+ KB\n"
     ]
    }
   ],
   "source": [
    "training_set.info()"
   ]
  },
  {
   "cell_type": "markdown",
   "metadata": {},
   "source": [
    "## Data Preprocessing"
   ]
  },
  {
   "cell_type": "markdown",
   "metadata": {},
   "source": [
    "We don't need Ticket and PassengerID to predict the data, therefore we will drop the column"
   ]
  },
  {
   "cell_type": "code",
   "execution_count": 54,
   "metadata": {},
   "outputs": [],
   "source": [
    "training_set.drop(['Ticket','PassengerId'], 1, inplace=True)"
   ]
  },
  {
   "cell_type": "code",
   "execution_count": 55,
   "metadata": {},
   "outputs": [
    {
     "name": "stdout",
     "output_type": "stream",
     "text": [
      "<class 'pandas.core.frame.DataFrame'>\n",
      "RangeIndex: 891 entries, 0 to 890\n",
      "Data columns (total 10 columns):\n",
      " #   Column    Non-Null Count  Dtype  \n",
      "---  ------    --------------  -----  \n",
      " 0   Survived  891 non-null    int64  \n",
      " 1   Pclass    891 non-null    int64  \n",
      " 2   Name      891 non-null    object \n",
      " 3   Sex       891 non-null    object \n",
      " 4   Age       714 non-null    float64\n",
      " 5   SibSp     891 non-null    int64  \n",
      " 6   Parch     891 non-null    int64  \n",
      " 7   Fare      891 non-null    float64\n",
      " 8   Cabin     204 non-null    object \n",
      " 9   Embarked  889 non-null    object \n",
      "dtypes: float64(2), int64(4), object(4)\n",
      "memory usage: 69.7+ KB\n"
     ]
    }
   ],
   "source": [
    "training_set.info()"
   ]
  },
  {
   "cell_type": "markdown",
   "metadata": {},
   "source": [
    "We will create Deck column based on first character in colum Cabin"
   ]
  },
  {
   "cell_type": "code",
   "execution_count": 56,
   "metadata": {},
   "outputs": [
    {
     "name": "stdout",
     "output_type": "stream",
     "text": [
      "['Unknown' 'C' 'Unknown' 'C' 'Unknown' 'Unknown' 'E' 'Unknown' 'Unknown'\n",
      " 'Unknown' 'G' 'C' 'Unknown' 'Unknown' 'Unknown' 'Unknown' 'Unknown'\n",
      " 'Unknown' 'Unknown' 'Unknown' 'Unknown' 'D' 'Unknown' 'A' 'Unknown'\n",
      " 'Unknown' 'Unknown' 'C' 'Unknown' 'Unknown' 'Unknown' 'B' 'Unknown'\n",
      " 'Unknown' 'Unknown' 'Unknown' 'Unknown' 'Unknown' 'Unknown' 'Unknown'\n",
      " 'Unknown' 'Unknown' 'Unknown' 'Unknown' 'Unknown' 'Unknown' 'Unknown'\n",
      " 'Unknown' 'Unknown' 'Unknown' 'Unknown' 'Unknown' 'D' 'Unknown' 'B' 'C'\n",
      " 'Unknown' 'Unknown' 'Unknown' 'Unknown' 'Unknown' 'B' 'C' 'Unknown'\n",
      " 'Unknown' 'Unknown' 'F' 'Unknown' 'Unknown' 'Unknown' 'Unknown' 'Unknown'\n",
      " 'Unknown' 'Unknown' 'Unknown' 'F' 'Unknown' 'Unknown' 'Unknown' 'Unknown'\n",
      " 'Unknown' 'Unknown' 'Unknown' 'Unknown' 'Unknown' 'Unknown' 'Unknown'\n",
      " 'Unknown' 'C' 'Unknown' 'Unknown' 'Unknown' 'E' 'Unknown' 'Unknown'\n",
      " 'Unknown' 'A' 'D' 'Unknown' 'Unknown' 'Unknown' 'Unknown' 'D' 'Unknown'\n",
      " 'Unknown' 'Unknown' 'Unknown' 'Unknown' 'Unknown' 'Unknown' 'C' 'Unknown'\n",
      " 'Unknown' 'Unknown' 'Unknown' 'Unknown' 'Unknown' 'Unknown' 'B' 'Unknown'\n",
      " 'Unknown' 'Unknown' 'Unknown' 'E' 'D' 'Unknown' 'Unknown' 'Unknown' 'F'\n",
      " 'Unknown' 'Unknown' 'Unknown' 'Unknown' 'Unknown' 'Unknown' 'Unknown' 'D'\n",
      " 'C' 'Unknown' 'B' 'Unknown' 'Unknown' 'Unknown' 'Unknown' 'Unknown'\n",
      " 'Unknown' 'Unknown' 'Unknown' 'F' 'Unknown' 'Unknown' 'C' 'Unknown'\n",
      " 'Unknown' 'Unknown' 'Unknown' 'Unknown' 'Unknown' 'Unknown' 'Unknown'\n",
      " 'Unknown' 'Unknown' 'Unknown' 'Unknown' 'Unknown' 'Unknown' 'E' 'Unknown'\n",
      " 'Unknown' 'Unknown' 'B' 'Unknown' 'Unknown' 'Unknown' 'A' 'Unknown'\n",
      " 'Unknown' 'C' 'Unknown' 'Unknown' 'Unknown' 'Unknown' 'Unknown' 'F'\n",
      " 'Unknown' 'A' 'Unknown' 'Unknown' 'Unknown' 'Unknown' 'Unknown' 'Unknown'\n",
      " 'Unknown' 'F' 'B' 'B' 'Unknown' 'Unknown' 'Unknown' 'Unknown' 'Unknown'\n",
      " 'Unknown' 'Unknown' 'Unknown' 'Unknown' 'G' 'Unknown' 'Unknown' 'Unknown'\n",
      " 'A' 'Unknown' 'Unknown' 'Unknown' 'Unknown' 'Unknown' 'D' 'Unknown'\n",
      " 'Unknown' 'D' 'Unknown' 'Unknown' 'Unknown' 'Unknown' 'Unknown' 'C'\n",
      " 'Unknown' 'Unknown' 'Unknown' 'Unknown' 'Unknown' 'C' 'Unknown' 'Unknown'\n",
      " 'Unknown' 'Unknown' 'Unknown' 'Unknown' 'Unknown' 'Unknown' 'Unknown'\n",
      " 'Unknown' 'Unknown' 'Unknown' 'Unknown' 'Unknown' 'C' 'Unknown' 'Unknown'\n",
      " 'D' 'Unknown' 'Unknown' 'G' 'C' 'Unknown' 'Unknown' 'Unknown' 'Unknown'\n",
      " 'B' 'Unknown' 'Unknown' 'Unknown' 'Unknown' 'E' 'B' 'Unknown' 'Unknown'\n",
      " 'Unknown' 'Unknown' 'C' 'C' 'Unknown' 'Unknown' 'Unknown' 'C' 'Unknown'\n",
      " 'D' 'Unknown' 'Unknown' 'Unknown' 'Unknown' 'Unknown' 'Unknown' 'Unknown'\n",
      " 'Unknown' 'A' 'Unknown' 'Unknown' 'Unknown' 'Unknown' 'Unknown' 'Unknown'\n",
      " 'B' 'D' 'Unknown' 'Unknown' 'Unknown' 'Unknown' 'C' 'C' 'B' 'Unknown'\n",
      " 'Unknown' 'Unknown' 'E' 'Unknown' 'C' 'Unknown' 'C' 'Unknown' 'E' 'C' 'B'\n",
      " 'Unknown' 'Unknown' 'Unknown' 'Unknown' 'Unknown' 'Unknown' 'C' 'E'\n",
      " 'Unknown' 'Unknown' 'Unknown' 'Unknown' 'Unknown' 'C' 'Unknown' 'D'\n",
      " 'Unknown' 'B' 'Unknown' 'C' 'C' 'Unknown' 'Unknown' 'Unknown' 'C' 'E'\n",
      " 'Unknown' 'T' 'F' 'C' 'Unknown' 'Unknown' 'Unknown' 'F' 'Unknown'\n",
      " 'Unknown' 'Unknown' 'Unknown' 'Unknown' 'C' 'Unknown' 'Unknown' 'Unknown'\n",
      " 'Unknown' 'E' 'Unknown' 'Unknown' 'Unknown' 'Unknown' 'Unknown' 'Unknown'\n",
      " 'Unknown' 'Unknown' 'Unknown' 'D' 'Unknown' 'Unknown' 'B' 'E' 'Unknown'\n",
      " 'Unknown' 'Unknown' 'Unknown' 'Unknown' 'Unknown' 'C' 'Unknown' 'Unknown'\n",
      " 'Unknown' 'Unknown' 'Unknown' 'Unknown' 'Unknown' 'Unknown' 'Unknown'\n",
      " 'Unknown' 'Unknown' 'Unknown' 'B' 'Unknown' 'Unknown' 'D' 'G' 'Unknown'\n",
      " 'Unknown' 'Unknown' 'Unknown' 'Unknown' 'Unknown' 'Unknown' 'Unknown'\n",
      " 'Unknown' 'Unknown' 'Unknown' 'Unknown' 'Unknown' 'Unknown' 'Unknown'\n",
      " 'Unknown' 'Unknown' 'C' 'Unknown' 'Unknown' 'Unknown' 'Unknown' 'Unknown'\n",
      " 'Unknown' 'Unknown' 'Unknown' 'Unknown' 'Unknown' 'Unknown' 'Unknown'\n",
      " 'Unknown' 'Unknown' 'Unknown' 'Unknown' 'E' 'C' 'Unknown' 'Unknown'\n",
      " 'Unknown' 'E' 'B' 'Unknown' 'Unknown' 'C' 'Unknown' 'Unknown' 'Unknown'\n",
      " 'Unknown' 'Unknown' 'Unknown' 'A' 'Unknown' 'Unknown' 'Unknown' 'C'\n",
      " 'Unknown' 'Unknown' 'C' 'C' 'Unknown' 'Unknown' 'E' 'D' 'Unknown'\n",
      " 'Unknown' 'E' 'Unknown' 'E' 'Unknown' 'Unknown' 'Unknown' 'Unknown'\n",
      " 'Unknown' 'Unknown' 'Unknown' 'Unknown' 'Unknown' 'Unknown' 'D' 'Unknown'\n",
      " 'A' 'Unknown' 'Unknown' 'Unknown' 'Unknown' 'Unknown' 'Unknown' 'Unknown'\n",
      " 'Unknown' 'B' 'Unknown' 'C' 'B' 'Unknown' 'Unknown' 'Unknown' 'Unknown'\n",
      " 'C' 'Unknown' 'Unknown' 'Unknown' 'D' 'Unknown' 'C' 'Unknown' 'Unknown'\n",
      " 'Unknown' 'Unknown' 'Unknown' 'B' 'C' 'Unknown' 'Unknown' 'Unknown'\n",
      " 'Unknown' 'Unknown' 'Unknown' 'E' 'Unknown' 'Unknown' 'D' 'F' 'Unknown'\n",
      " 'Unknown' 'Unknown' 'B' 'Unknown' 'Unknown' 'B' 'Unknown' 'Unknown'\n",
      " 'Unknown' 'C' 'Unknown' 'Unknown' 'Unknown' 'Unknown' 'Unknown' 'Unknown'\n",
      " 'Unknown' 'Unknown' 'B' 'Unknown' 'Unknown' 'B' 'B' 'Unknown' 'Unknown'\n",
      " 'Unknown' 'C' 'Unknown' 'Unknown' 'Unknown' 'Unknown' 'Unknown' 'C'\n",
      " 'Unknown' 'Unknown' 'Unknown' 'Unknown' 'Unknown' 'A' 'Unknown' 'E'\n",
      " 'Unknown' 'Unknown' 'Unknown' 'Unknown' 'Unknown' 'Unknown' 'Unknown'\n",
      " 'Unknown' 'Unknown' 'Unknown' 'Unknown' 'Unknown' 'C' 'E' 'Unknown'\n",
      " 'Unknown' 'Unknown' 'Unknown' 'E' 'Unknown' 'Unknown' 'Unknown' 'C'\n",
      " 'Unknown' 'A' 'Unknown' 'E' 'Unknown' 'B' 'Unknown' 'Unknown' 'Unknown'\n",
      " 'D' 'Unknown' 'Unknown' 'Unknown' 'Unknown' 'Unknown' 'Unknown' 'Unknown'\n",
      " 'A' 'Unknown' 'Unknown' 'Unknown' 'Unknown' 'Unknown' 'Unknown' 'Unknown'\n",
      " 'Unknown' 'Unknown' 'C' 'Unknown' 'Unknown' 'Unknown' 'Unknown' 'Unknown'\n",
      " 'Unknown' 'Unknown' 'Unknown' 'F' 'Unknown' 'Unknown' 'D' 'Unknown'\n",
      " 'Unknown' 'Unknown' 'D' 'Unknown' 'D' 'Unknown' 'Unknown' 'A' 'Unknown'\n",
      " 'B' 'Unknown' 'Unknown' 'Unknown' 'Unknown' 'Unknown' 'Unknown' 'Unknown'\n",
      " 'Unknown' 'B' 'Unknown' 'Unknown' 'Unknown' 'D' 'Unknown' 'A' 'Unknown'\n",
      " 'Unknown' 'Unknown' 'Unknown' 'Unknown' 'Unknown' 'Unknown' 'Unknown'\n",
      " 'Unknown' 'Unknown' 'Unknown' 'D' 'Unknown' 'Unknown' 'E' 'Unknown'\n",
      " 'Unknown' 'Unknown' 'Unknown' 'Unknown' 'Unknown' 'C' 'Unknown' 'B'\n",
      " 'Unknown' 'Unknown' 'Unknown' 'Unknown' 'Unknown' 'Unknown' 'Unknown' 'B'\n",
      " 'Unknown' 'D' 'Unknown' 'Unknown' 'Unknown' 'Unknown' 'Unknown' 'Unknown'\n",
      " 'Unknown' 'B' 'B' 'Unknown' 'Unknown' 'Unknown' 'Unknown' 'Unknown'\n",
      " 'Unknown' 'Unknown' 'C' 'F' 'C' 'E' 'Unknown' 'Unknown' 'Unknown'\n",
      " 'Unknown' 'Unknown' 'E' 'Unknown' 'Unknown' 'C' 'C' 'C' 'Unknown'\n",
      " 'Unknown' 'F' 'C' 'E' 'Unknown' 'Unknown' 'Unknown' 'Unknown' 'Unknown'\n",
      " 'Unknown' 'E' 'Unknown' 'Unknown' 'Unknown' 'Unknown' 'Unknown' 'B'\n",
      " 'Unknown' 'Unknown' 'Unknown' 'Unknown' 'Unknown' 'Unknown' 'B' 'Unknown'\n",
      " 'Unknown' 'D' 'C' 'B' 'Unknown' 'Unknown' 'B' 'Unknown' 'Unknown' 'D'\n",
      " 'Unknown' 'Unknown' 'E' 'Unknown' 'Unknown' 'Unknown' 'Unknown' 'Unknown'\n",
      " 'Unknown' 'Unknown' 'B' 'Unknown' 'Unknown' 'Unknown' 'B' 'Unknown' 'D'\n",
      " 'Unknown' 'Unknown' 'Unknown' 'Unknown' 'Unknown' 'Unknown' 'E' 'Unknown'\n",
      " 'Unknown' 'Unknown' 'F' 'Unknown' 'Unknown' 'B' 'Unknown' 'B' 'D'\n",
      " 'Unknown' 'Unknown' 'Unknown' 'Unknown' 'Unknown' 'Unknown' 'B' 'Unknown'\n",
      " 'Unknown' 'Unknown' 'Unknown' 'Unknown' 'Unknown' 'D' 'Unknown' 'Unknown'\n",
      " 'Unknown' 'Unknown' 'Unknown' 'B' 'Unknown' 'Unknown' 'Unknown' 'A'\n",
      " 'Unknown' 'Unknown' 'E' 'Unknown' 'Unknown' 'Unknown' 'Unknown' 'Unknown'\n",
      " 'B' 'Unknown' 'Unknown' 'Unknown' 'Unknown' 'B' 'Unknown' 'Unknown' 'E'\n",
      " 'Unknown' 'Unknown' 'Unknown' 'Unknown' 'Unknown' 'B' 'Unknown' 'Unknown'\n",
      " 'Unknown' 'Unknown' 'Unknown' 'E' 'Unknown' 'Unknown' 'Unknown' 'C'\n",
      " 'Unknown' 'Unknown' 'Unknown' 'Unknown' 'Unknown' 'Unknown' 'Unknown'\n",
      " 'Unknown' 'Unknown' 'C' 'Unknown' 'Unknown' 'Unknown' 'D' 'Unknown'\n",
      " 'Unknown' 'Unknown' 'E' 'Unknown' 'Unknown' 'Unknown' 'Unknown' 'D'\n",
      " 'Unknown' 'Unknown' 'Unknown' 'Unknown' 'A' 'Unknown' 'Unknown' 'Unknown'\n",
      " 'D' 'B' 'Unknown' 'Unknown' 'Unknown' 'Unknown' 'Unknown' 'Unknown' 'C'\n",
      " 'Unknown' 'Unknown' 'Unknown' 'Unknown' 'Unknown' 'Unknown' 'Unknown' 'B'\n",
      " 'Unknown' 'C' 'Unknown']\n"
     ]
    }
   ],
   "source": [
    "def assignDeckValue(CabinCode):\n",
    "    if pd.isnull(CabinCode):\n",
    "        category = 'Unknown'\n",
    "    else:\n",
    "        category = CabinCode[0]\n",
    "    return category\n",
    "\n",
    "Deck = np.array([assignDeckValue(cabin) for cabin in training_set['Cabin'].values])\n",
    "print(Deck)"
   ]
  },
  {
   "cell_type": "code",
   "execution_count": 57,
   "metadata": {},
   "outputs": [],
   "source": [
    "training_set = training_set.assign(Deck = Deck)"
   ]
  },
  {
   "cell_type": "code",
   "execution_count": 58,
   "metadata": {},
   "outputs": [
    {
     "data": {
      "text/plain": [
       "array(['Unknown', 'C', 'Unknown', 'C', 'Unknown', 'Unknown', 'E',\n",
       "       'Unknown', 'Unknown', 'Unknown', 'G', 'C', 'Unknown', 'Unknown',\n",
       "       'Unknown', 'Unknown', 'Unknown', 'Unknown', 'Unknown', 'Unknown',\n",
       "       'Unknown', 'D', 'Unknown', 'A', 'Unknown', 'Unknown', 'Unknown',\n",
       "       'C', 'Unknown', 'Unknown', 'Unknown', 'B', 'Unknown', 'Unknown',\n",
       "       'Unknown', 'Unknown', 'Unknown', 'Unknown', 'Unknown', 'Unknown',\n",
       "       'Unknown', 'Unknown', 'Unknown', 'Unknown', 'Unknown', 'Unknown',\n",
       "       'Unknown', 'Unknown', 'Unknown', 'Unknown', 'Unknown', 'Unknown',\n",
       "       'D', 'Unknown', 'B', 'C', 'Unknown', 'Unknown', 'Unknown',\n",
       "       'Unknown', 'Unknown', 'B', 'C', 'Unknown', 'Unknown', 'Unknown',\n",
       "       'F', 'Unknown', 'Unknown', 'Unknown', 'Unknown', 'Unknown',\n",
       "       'Unknown', 'Unknown', 'Unknown', 'F', 'Unknown', 'Unknown',\n",
       "       'Unknown', 'Unknown', 'Unknown', 'Unknown', 'Unknown', 'Unknown',\n",
       "       'Unknown', 'Unknown', 'Unknown', 'Unknown', 'C', 'Unknown',\n",
       "       'Unknown', 'Unknown', 'E', 'Unknown', 'Unknown', 'Unknown', 'A',\n",
       "       'D', 'Unknown', 'Unknown', 'Unknown', 'Unknown', 'D', 'Unknown',\n",
       "       'Unknown', 'Unknown', 'Unknown', 'Unknown', 'Unknown', 'Unknown',\n",
       "       'C', 'Unknown', 'Unknown', 'Unknown', 'Unknown', 'Unknown',\n",
       "       'Unknown', 'Unknown', 'B', 'Unknown', 'Unknown', 'Unknown',\n",
       "       'Unknown', 'E', 'D', 'Unknown', 'Unknown', 'Unknown', 'F',\n",
       "       'Unknown', 'Unknown', 'Unknown', 'Unknown', 'Unknown', 'Unknown',\n",
       "       'Unknown', 'D', 'C', 'Unknown', 'B', 'Unknown', 'Unknown',\n",
       "       'Unknown', 'Unknown', 'Unknown', 'Unknown', 'Unknown', 'Unknown',\n",
       "       'F', 'Unknown', 'Unknown', 'C', 'Unknown', 'Unknown', 'Unknown',\n",
       "       'Unknown', 'Unknown', 'Unknown', 'Unknown', 'Unknown', 'Unknown',\n",
       "       'Unknown', 'Unknown', 'Unknown', 'Unknown', 'Unknown', 'E',\n",
       "       'Unknown', 'Unknown', 'Unknown', 'B', 'Unknown', 'Unknown',\n",
       "       'Unknown', 'A', 'Unknown', 'Unknown', 'C', 'Unknown', 'Unknown',\n",
       "       'Unknown', 'Unknown', 'Unknown', 'F', 'Unknown', 'A', 'Unknown',\n",
       "       'Unknown', 'Unknown', 'Unknown', 'Unknown', 'Unknown', 'Unknown',\n",
       "       'F', 'B', 'B', 'Unknown', 'Unknown', 'Unknown', 'Unknown',\n",
       "       'Unknown', 'Unknown', 'Unknown', 'Unknown', 'Unknown', 'G',\n",
       "       'Unknown', 'Unknown', 'Unknown', 'A', 'Unknown', 'Unknown',\n",
       "       'Unknown', 'Unknown', 'Unknown', 'D', 'Unknown', 'Unknown', 'D',\n",
       "       'Unknown', 'Unknown', 'Unknown', 'Unknown', 'Unknown', 'C',\n",
       "       'Unknown', 'Unknown', 'Unknown', 'Unknown', 'Unknown', 'C',\n",
       "       'Unknown', 'Unknown', 'Unknown', 'Unknown', 'Unknown', 'Unknown',\n",
       "       'Unknown', 'Unknown', 'Unknown', 'Unknown', 'Unknown', 'Unknown',\n",
       "       'Unknown', 'Unknown', 'C', 'Unknown', 'Unknown', 'D', 'Unknown',\n",
       "       'Unknown', 'G', 'C', 'Unknown', 'Unknown', 'Unknown', 'Unknown',\n",
       "       'B', 'Unknown', 'Unknown', 'Unknown', 'Unknown', 'E', 'B',\n",
       "       'Unknown', 'Unknown', 'Unknown', 'Unknown', 'C', 'C', 'Unknown',\n",
       "       'Unknown', 'Unknown', 'C', 'Unknown', 'D', 'Unknown', 'Unknown',\n",
       "       'Unknown', 'Unknown', 'Unknown', 'Unknown', 'Unknown', 'Unknown',\n",
       "       'A', 'Unknown', 'Unknown', 'Unknown', 'Unknown', 'Unknown',\n",
       "       'Unknown', 'B', 'D', 'Unknown', 'Unknown', 'Unknown', 'Unknown',\n",
       "       'C', 'C', 'B', 'Unknown', 'Unknown', 'Unknown', 'E', 'Unknown',\n",
       "       'C', 'Unknown', 'C', 'Unknown', 'E', 'C', 'B', 'Unknown',\n",
       "       'Unknown', 'Unknown', 'Unknown', 'Unknown', 'Unknown', 'C', 'E',\n",
       "       'Unknown', 'Unknown', 'Unknown', 'Unknown', 'Unknown', 'C',\n",
       "       'Unknown', 'D', 'Unknown', 'B', 'Unknown', 'C', 'C', 'Unknown',\n",
       "       'Unknown', 'Unknown', 'C', 'E', 'Unknown', 'T', 'F', 'C',\n",
       "       'Unknown', 'Unknown', 'Unknown', 'F', 'Unknown', 'Unknown',\n",
       "       'Unknown', 'Unknown', 'Unknown', 'C', 'Unknown', 'Unknown',\n",
       "       'Unknown', 'Unknown', 'E', 'Unknown', 'Unknown', 'Unknown',\n",
       "       'Unknown', 'Unknown', 'Unknown', 'Unknown', 'Unknown', 'Unknown',\n",
       "       'D', 'Unknown', 'Unknown', 'B', 'E', 'Unknown', 'Unknown',\n",
       "       'Unknown', 'Unknown', 'Unknown', 'Unknown', 'C', 'Unknown',\n",
       "       'Unknown', 'Unknown', 'Unknown', 'Unknown', 'Unknown', 'Unknown',\n",
       "       'Unknown', 'Unknown', 'Unknown', 'Unknown', 'Unknown', 'B',\n",
       "       'Unknown', 'Unknown', 'D', 'G', 'Unknown', 'Unknown', 'Unknown',\n",
       "       'Unknown', 'Unknown', 'Unknown', 'Unknown', 'Unknown', 'Unknown',\n",
       "       'Unknown', 'Unknown', 'Unknown', 'Unknown', 'Unknown', 'Unknown',\n",
       "       'Unknown', 'Unknown', 'C', 'Unknown', 'Unknown', 'Unknown',\n",
       "       'Unknown', 'Unknown', 'Unknown', 'Unknown', 'Unknown', 'Unknown',\n",
       "       'Unknown', 'Unknown', 'Unknown', 'Unknown', 'Unknown', 'Unknown',\n",
       "       'Unknown', 'E', 'C', 'Unknown', 'Unknown', 'Unknown', 'E', 'B',\n",
       "       'Unknown', 'Unknown', 'C', 'Unknown', 'Unknown', 'Unknown',\n",
       "       'Unknown', 'Unknown', 'Unknown', 'A', 'Unknown', 'Unknown',\n",
       "       'Unknown', 'C', 'Unknown', 'Unknown', 'C', 'C', 'Unknown',\n",
       "       'Unknown', 'E', 'D', 'Unknown', 'Unknown', 'E', 'Unknown', 'E',\n",
       "       'Unknown', 'Unknown', 'Unknown', 'Unknown', 'Unknown', 'Unknown',\n",
       "       'Unknown', 'Unknown', 'Unknown', 'Unknown', 'D', 'Unknown', 'A',\n",
       "       'Unknown', 'Unknown', 'Unknown', 'Unknown', 'Unknown', 'Unknown',\n",
       "       'Unknown', 'Unknown', 'B', 'Unknown', 'C', 'B', 'Unknown',\n",
       "       'Unknown', 'Unknown', 'Unknown', 'C', 'Unknown', 'Unknown',\n",
       "       'Unknown', 'D', 'Unknown', 'C', 'Unknown', 'Unknown', 'Unknown',\n",
       "       'Unknown', 'Unknown', 'B', 'C', 'Unknown', 'Unknown', 'Unknown',\n",
       "       'Unknown', 'Unknown', 'Unknown', 'E', 'Unknown', 'Unknown', 'D',\n",
       "       'F', 'Unknown', 'Unknown', 'Unknown', 'B', 'Unknown', 'Unknown',\n",
       "       'B', 'Unknown', 'Unknown', 'Unknown', 'C', 'Unknown', 'Unknown',\n",
       "       'Unknown', 'Unknown', 'Unknown', 'Unknown', 'Unknown', 'Unknown',\n",
       "       'B', 'Unknown', 'Unknown', 'B', 'B', 'Unknown', 'Unknown',\n",
       "       'Unknown', 'C', 'Unknown', 'Unknown', 'Unknown', 'Unknown',\n",
       "       'Unknown', 'C', 'Unknown', 'Unknown', 'Unknown', 'Unknown',\n",
       "       'Unknown', 'A', 'Unknown', 'E', 'Unknown', 'Unknown', 'Unknown',\n",
       "       'Unknown', 'Unknown', 'Unknown', 'Unknown', 'Unknown', 'Unknown',\n",
       "       'Unknown', 'Unknown', 'Unknown', 'C', 'E', 'Unknown', 'Unknown',\n",
       "       'Unknown', 'Unknown', 'E', 'Unknown', 'Unknown', 'Unknown', 'C',\n",
       "       'Unknown', 'A', 'Unknown', 'E', 'Unknown', 'B', 'Unknown',\n",
       "       'Unknown', 'Unknown', 'D', 'Unknown', 'Unknown', 'Unknown',\n",
       "       'Unknown', 'Unknown', 'Unknown', 'Unknown', 'A', 'Unknown',\n",
       "       'Unknown', 'Unknown', 'Unknown', 'Unknown', 'Unknown', 'Unknown',\n",
       "       'Unknown', 'Unknown', 'C', 'Unknown', 'Unknown', 'Unknown',\n",
       "       'Unknown', 'Unknown', 'Unknown', 'Unknown', 'Unknown', 'F',\n",
       "       'Unknown', 'Unknown', 'D', 'Unknown', 'Unknown', 'Unknown', 'D',\n",
       "       'Unknown', 'D', 'Unknown', 'Unknown', 'A', 'Unknown', 'B',\n",
       "       'Unknown', 'Unknown', 'Unknown', 'Unknown', 'Unknown', 'Unknown',\n",
       "       'Unknown', 'Unknown', 'B', 'Unknown', 'Unknown', 'Unknown', 'D',\n",
       "       'Unknown', 'A', 'Unknown', 'Unknown', 'Unknown', 'Unknown',\n",
       "       'Unknown', 'Unknown', 'Unknown', 'Unknown', 'Unknown', 'Unknown',\n",
       "       'Unknown', 'D', 'Unknown', 'Unknown', 'E', 'Unknown', 'Unknown',\n",
       "       'Unknown', 'Unknown', 'Unknown', 'Unknown', 'C', 'Unknown', 'B',\n",
       "       'Unknown', 'Unknown', 'Unknown', 'Unknown', 'Unknown', 'Unknown',\n",
       "       'Unknown', 'B', 'Unknown', 'D', 'Unknown', 'Unknown', 'Unknown',\n",
       "       'Unknown', 'Unknown', 'Unknown', 'Unknown', 'B', 'B', 'Unknown',\n",
       "       'Unknown', 'Unknown', 'Unknown', 'Unknown', 'Unknown', 'Unknown',\n",
       "       'C', 'F', 'C', 'E', 'Unknown', 'Unknown', 'Unknown', 'Unknown',\n",
       "       'Unknown', 'E', 'Unknown', 'Unknown', 'C', 'C', 'C', 'Unknown',\n",
       "       'Unknown', 'F', 'C', 'E', 'Unknown', 'Unknown', 'Unknown',\n",
       "       'Unknown', 'Unknown', 'Unknown', 'E', 'Unknown', 'Unknown',\n",
       "       'Unknown', 'Unknown', 'Unknown', 'B', 'Unknown', 'Unknown',\n",
       "       'Unknown', 'Unknown', 'Unknown', 'Unknown', 'B', 'Unknown',\n",
       "       'Unknown', 'D', 'C', 'B', 'Unknown', 'Unknown', 'B', 'Unknown',\n",
       "       'Unknown', 'D', 'Unknown', 'Unknown', 'E', 'Unknown', 'Unknown',\n",
       "       'Unknown', 'Unknown', 'Unknown', 'Unknown', 'Unknown', 'B',\n",
       "       'Unknown', 'Unknown', 'Unknown', 'B', 'Unknown', 'D', 'Unknown',\n",
       "       'Unknown', 'Unknown', 'Unknown', 'Unknown', 'Unknown', 'E',\n",
       "       'Unknown', 'Unknown', 'Unknown', 'F', 'Unknown', 'Unknown', 'B',\n",
       "       'Unknown', 'B', 'D', 'Unknown', 'Unknown', 'Unknown', 'Unknown',\n",
       "       'Unknown', 'Unknown', 'B', 'Unknown', 'Unknown', 'Unknown',\n",
       "       'Unknown', 'Unknown', 'Unknown', 'D', 'Unknown', 'Unknown',\n",
       "       'Unknown', 'Unknown', 'Unknown', 'B', 'Unknown', 'Unknown',\n",
       "       'Unknown', 'A', 'Unknown', 'Unknown', 'E', 'Unknown', 'Unknown',\n",
       "       'Unknown', 'Unknown', 'Unknown', 'B', 'Unknown', 'Unknown',\n",
       "       'Unknown', 'Unknown', 'B', 'Unknown', 'Unknown', 'E', 'Unknown',\n",
       "       'Unknown', 'Unknown', 'Unknown', 'Unknown', 'B', 'Unknown',\n",
       "       'Unknown', 'Unknown', 'Unknown', 'Unknown', 'E', 'Unknown',\n",
       "       'Unknown', 'Unknown', 'C', 'Unknown', 'Unknown', 'Unknown',\n",
       "       'Unknown', 'Unknown', 'Unknown', 'Unknown', 'Unknown', 'Unknown',\n",
       "       'C', 'Unknown', 'Unknown', 'Unknown', 'D', 'Unknown', 'Unknown',\n",
       "       'Unknown', 'E', 'Unknown', 'Unknown', 'Unknown', 'Unknown', 'D',\n",
       "       'Unknown', 'Unknown', 'Unknown', 'Unknown', 'A', 'Unknown',\n",
       "       'Unknown', 'Unknown', 'D', 'B', 'Unknown', 'Unknown', 'Unknown',\n",
       "       'Unknown', 'Unknown', 'Unknown', 'C', 'Unknown', 'Unknown',\n",
       "       'Unknown', 'Unknown', 'Unknown', 'Unknown', 'Unknown', 'B',\n",
       "       'Unknown', 'C', 'Unknown'], dtype=object)"
      ]
     },
     "execution_count": 58,
     "metadata": {},
     "output_type": "execute_result"
    }
   ],
   "source": [
    "training_set['Deck'].values"
   ]
  },
  {
   "cell_type": "code",
   "execution_count": 59,
   "metadata": {},
   "outputs": [
    {
     "name": "stdout",
     "output_type": "stream",
     "text": [
      "<class 'pandas.core.frame.DataFrame'>\n",
      "RangeIndex: 891 entries, 0 to 890\n",
      "Data columns (total 11 columns):\n",
      " #   Column    Non-Null Count  Dtype  \n",
      "---  ------    --------------  -----  \n",
      " 0   Survived  891 non-null    int64  \n",
      " 1   Pclass    891 non-null    int64  \n",
      " 2   Name      891 non-null    object \n",
      " 3   Sex       891 non-null    object \n",
      " 4   Age       714 non-null    float64\n",
      " 5   SibSp     891 non-null    int64  \n",
      " 6   Parch     891 non-null    int64  \n",
      " 7   Fare      891 non-null    float64\n",
      " 8   Cabin     204 non-null    object \n",
      " 9   Embarked  889 non-null    object \n",
      " 10  Deck      891 non-null    object \n",
      "dtypes: float64(2), int64(4), object(5)\n",
      "memory usage: 76.7+ KB\n"
     ]
    }
   ],
   "source": [
    "training_set.info()"
   ]
  },
  {
   "cell_type": "markdown",
   "metadata": {},
   "source": [
    "We create column that consist of size of the passenger's family (including her/himself) based on column ParCh (Parent and Children) and SibSp (Sibling and Spouse)"
   ]
  },
  {
   "cell_type": "code",
   "execution_count": 60,
   "metadata": {},
   "outputs": [],
   "source": [
    "training_set['FamilySize'] = training_set['SibSp'] + training_set['Parch'] + 1"
   ]
  },
  {
   "cell_type": "markdown",
   "metadata": {},
   "source": [
    "Name doesn't important enough to be fitted into model. We will denoted Title column based on Name"
   ]
  },
  {
   "cell_type": "code",
   "execution_count": 61,
   "metadata": {},
   "outputs": [],
   "source": [
    "training_set['Title'] = training_set.Name.str.extract(' ([A-Za-z]+)\\.', expand=False)\n",
    "training_set['Title'] = training_set['Title'].replace(['Dr', 'Rev', 'Col', 'Major', 'Countess', 'Sir', 'Jonkheer', 'Lady', 'Capt', 'Don'], 'Others')\n",
    "training_set['Title'] = training_set['Title'].replace('Ms', 'Miss')\n",
    "training_set['Title'] = training_set['Title'].replace('Mme', 'Mrs')\n",
    "training_set['Title'] = training_set['Title'].replace('Mlle', 'Miss')"
   ]
  },
  {
   "cell_type": "code",
   "execution_count": 62,
   "metadata": {},
   "outputs": [
    {
     "data": {
      "text/plain": [
       "0          Mr\n",
       "1         Mrs\n",
       "2        Miss\n",
       "3         Mrs\n",
       "4          Mr\n",
       "        ...  \n",
       "886    Others\n",
       "887      Miss\n",
       "888      Miss\n",
       "889        Mr\n",
       "890        Mr\n",
       "Name: Title, Length: 891, dtype: object"
      ]
     },
     "execution_count": 62,
     "metadata": {},
     "output_type": "execute_result"
    }
   ],
   "source": [
    "training_set['Title']"
   ]
  },
  {
   "cell_type": "code",
   "execution_count": 63,
   "metadata": {},
   "outputs": [],
   "source": [
    "training_set.drop(['Cabin','Name'],1,inplace=True)"
   ]
  },
  {
   "cell_type": "code",
   "execution_count": 64,
   "metadata": {},
   "outputs": [
    {
     "name": "stdout",
     "output_type": "stream",
     "text": [
      "<class 'pandas.core.frame.DataFrame'>\n",
      "RangeIndex: 891 entries, 0 to 890\n",
      "Data columns (total 11 columns):\n",
      " #   Column      Non-Null Count  Dtype  \n",
      "---  ------      --------------  -----  \n",
      " 0   Survived    891 non-null    int64  \n",
      " 1   Pclass      891 non-null    int64  \n",
      " 2   Sex         891 non-null    object \n",
      " 3   Age         714 non-null    float64\n",
      " 4   SibSp       891 non-null    int64  \n",
      " 5   Parch       891 non-null    int64  \n",
      " 6   Fare        891 non-null    float64\n",
      " 7   Embarked    889 non-null    object \n",
      " 8   Deck        891 non-null    object \n",
      " 9   FamilySize  891 non-null    int64  \n",
      " 10  Title       891 non-null    object \n",
      "dtypes: float64(2), int64(5), object(4)\n",
      "memory usage: 76.7+ KB\n"
     ]
    }
   ],
   "source": [
    "training_set.info()"
   ]
  },
  {
   "cell_type": "code",
   "execution_count": 65,
   "metadata": {},
   "outputs": [
    {
     "data": {
      "text/plain": [
       "Survived        0\n",
       "Pclass          0\n",
       "Sex             0\n",
       "Age           177\n",
       "SibSp           0\n",
       "Parch           0\n",
       "Fare            0\n",
       "Embarked        2\n",
       "Deck            0\n",
       "FamilySize      0\n",
       "Title           0\n",
       "dtype: int64"
      ]
     },
     "execution_count": 65,
     "metadata": {},
     "output_type": "execute_result"
    }
   ],
   "source": [
    "training_set.isnull().sum()"
   ]
  },
  {
   "cell_type": "markdown",
   "metadata": {},
   "source": [
    "Embarked still has 2 null data, so in this problem we will fill missing value with commonly occured value"
   ]
  },
  {
   "cell_type": "code",
   "execution_count": 66,
   "metadata": {},
   "outputs": [
    {
     "data": {
      "text/plain": [
       "S    644\n",
       "C    168\n",
       "Q     77\n",
       "Name: Embarked, dtype: int64"
      ]
     },
     "execution_count": 66,
     "metadata": {},
     "output_type": "execute_result"
    }
   ],
   "source": [
    "training_set['Embarked'].value_counts()"
   ]
  },
  {
   "cell_type": "code",
   "execution_count": 67,
   "metadata": {},
   "outputs": [],
   "source": [
    "common = 'S'\n",
    "training_set['Embarked']=training_set['Embarked'].fillna('S')"
   ]
  },
  {
   "cell_type": "code",
   "execution_count": 68,
   "metadata": {},
   "outputs": [
    {
     "data": {
      "text/plain": [
       "Survived        0\n",
       "Pclass          0\n",
       "Sex             0\n",
       "Age           177\n",
       "SibSp           0\n",
       "Parch           0\n",
       "Fare            0\n",
       "Embarked        0\n",
       "Deck            0\n",
       "FamilySize      0\n",
       "Title           0\n",
       "dtype: int64"
      ]
     },
     "execution_count": 68,
     "metadata": {},
     "output_type": "execute_result"
    }
   ],
   "source": [
    "training_set.isnull().sum()"
   ]
  },
  {
   "cell_type": "markdown",
   "metadata": {},
   "source": [
    "Still many missing number in Age column, so we will fill the missing number with mean of each title (Mr, Mrs, Miss, Master, Others)"
   ]
  },
  {
   "cell_type": "code",
   "execution_count": 69,
   "metadata": {},
   "outputs": [
    {
     "name": "stdout",
     "output_type": "stream",
     "text": [
      "Title\n",
      "Master     4.574167\n",
      "Miss      21.845638\n",
      "Mr        32.368090\n",
      "Mrs       35.788991\n",
      "Others    45.545455\n",
      "Name: Age, dtype: float64\n"
     ]
    }
   ],
   "source": [
    "means = training_set.groupby('Title')['Age'].mean()\n",
    "print(means)"
   ]
  },
  {
   "cell_type": "code",
   "execution_count": 70,
   "metadata": {},
   "outputs": [
    {
     "data": {
      "text/plain": [
       "0      22.000000\n",
       "1      38.000000\n",
       "2      26.000000\n",
       "3      35.000000\n",
       "4      35.000000\n",
       "         ...    \n",
       "886    27.000000\n",
       "887    19.000000\n",
       "888    21.845638\n",
       "889    26.000000\n",
       "890    32.000000\n",
       "Name: Age, Length: 891, dtype: float64"
      ]
     },
     "execution_count": 70,
     "metadata": {},
     "output_type": "execute_result"
    }
   ],
   "source": [
    "title_list = ['Master', 'Miss', 'Mrs', 'Mr', 'Others']\n",
    "\n",
    "def ageMissingReplace(means, dframe, title_list):\n",
    "    for title in title_list:\n",
    "        temp = dframe['Title'] == title\n",
    "        dframe.loc[temp, 'Age'] = dframe.loc[temp, 'Age'].fillna(means[title])\n",
    "\n",
    "ageMissingReplace(means, training_set, title_list)\n",
    "training_set['Age']"
   ]
  },
  {
   "cell_type": "code",
   "execution_count": 71,
   "metadata": {},
   "outputs": [
    {
     "name": "stdout",
     "output_type": "stream",
     "text": [
      "<class 'pandas.core.frame.DataFrame'>\n",
      "RangeIndex: 891 entries, 0 to 890\n",
      "Data columns (total 11 columns):\n",
      " #   Column      Non-Null Count  Dtype  \n",
      "---  ------      --------------  -----  \n",
      " 0   Survived    891 non-null    int64  \n",
      " 1   Pclass      891 non-null    int64  \n",
      " 2   Sex         891 non-null    object \n",
      " 3   Age         891 non-null    float64\n",
      " 4   SibSp       891 non-null    int64  \n",
      " 5   Parch       891 non-null    int64  \n",
      " 6   Fare        891 non-null    float64\n",
      " 7   Embarked    891 non-null    object \n",
      " 8   Deck        891 non-null    object \n",
      " 9   FamilySize  891 non-null    int64  \n",
      " 10  Title       891 non-null    object \n",
      "dtypes: float64(2), int64(5), object(4)\n",
      "memory usage: 76.7+ KB\n"
     ]
    }
   ],
   "source": [
    "training_set.info()"
   ]
  },
  {
   "cell_type": "markdown",
   "metadata": {},
   "source": [
    "We convert value into numerical value for better data fitting into model. In this case, we just use mapping function"
   ]
  },
  {
   "cell_type": "code",
   "execution_count": 72,
   "metadata": {},
   "outputs": [],
   "source": [
    "training_set['Embarked'] = training_set['Embarked'].map({'C':0, 'Q':1, 'S':2})\n",
    "training_set['Sex'] = training_set['Sex'].map({'male':0, 'female':1})\n",
    "training_set['Title'] = training_set['Title'].map({'Master':0, 'Miss':1, 'Mr':2, 'Mrs':3, 'Others':4})"
   ]
  },
  {
   "cell_type": "code",
   "execution_count": 73,
   "metadata": {},
   "outputs": [],
   "source": [
    "le = preprocessing.LabelEncoder()\n",
    "training_set['Deck'] = le.fit_transform(training_set['Deck'])"
   ]
  },
  {
   "cell_type": "code",
   "execution_count": 74,
   "metadata": {},
   "outputs": [
    {
     "data": {
      "text/html": [
       "<div>\n",
       "<style scoped>\n",
       "    .dataframe tbody tr th:only-of-type {\n",
       "        vertical-align: middle;\n",
       "    }\n",
       "\n",
       "    .dataframe tbody tr th {\n",
       "        vertical-align: top;\n",
       "    }\n",
       "\n",
       "    .dataframe thead th {\n",
       "        text-align: right;\n",
       "    }\n",
       "</style>\n",
       "<table border=\"1\" class=\"dataframe\">\n",
       "  <thead>\n",
       "    <tr style=\"text-align: right;\">\n",
       "      <th></th>\n",
       "      <th>Survived</th>\n",
       "      <th>Pclass</th>\n",
       "      <th>Sex</th>\n",
       "      <th>Age</th>\n",
       "      <th>SibSp</th>\n",
       "      <th>Parch</th>\n",
       "      <th>Fare</th>\n",
       "      <th>Embarked</th>\n",
       "      <th>Deck</th>\n",
       "      <th>FamilySize</th>\n",
       "      <th>Title</th>\n",
       "    </tr>\n",
       "  </thead>\n",
       "  <tbody>\n",
       "    <tr>\n",
       "      <th>0</th>\n",
       "      <td>0</td>\n",
       "      <td>3</td>\n",
       "      <td>0</td>\n",
       "      <td>22.0</td>\n",
       "      <td>1</td>\n",
       "      <td>0</td>\n",
       "      <td>7.2500</td>\n",
       "      <td>2</td>\n",
       "      <td>8</td>\n",
       "      <td>2</td>\n",
       "      <td>2</td>\n",
       "    </tr>\n",
       "    <tr>\n",
       "      <th>1</th>\n",
       "      <td>1</td>\n",
       "      <td>1</td>\n",
       "      <td>1</td>\n",
       "      <td>38.0</td>\n",
       "      <td>1</td>\n",
       "      <td>0</td>\n",
       "      <td>71.2833</td>\n",
       "      <td>0</td>\n",
       "      <td>2</td>\n",
       "      <td>2</td>\n",
       "      <td>3</td>\n",
       "    </tr>\n",
       "    <tr>\n",
       "      <th>2</th>\n",
       "      <td>1</td>\n",
       "      <td>3</td>\n",
       "      <td>1</td>\n",
       "      <td>26.0</td>\n",
       "      <td>0</td>\n",
       "      <td>0</td>\n",
       "      <td>7.9250</td>\n",
       "      <td>2</td>\n",
       "      <td>8</td>\n",
       "      <td>1</td>\n",
       "      <td>1</td>\n",
       "    </tr>\n",
       "    <tr>\n",
       "      <th>3</th>\n",
       "      <td>1</td>\n",
       "      <td>1</td>\n",
       "      <td>1</td>\n",
       "      <td>35.0</td>\n",
       "      <td>1</td>\n",
       "      <td>0</td>\n",
       "      <td>53.1000</td>\n",
       "      <td>2</td>\n",
       "      <td>2</td>\n",
       "      <td>2</td>\n",
       "      <td>3</td>\n",
       "    </tr>\n",
       "    <tr>\n",
       "      <th>4</th>\n",
       "      <td>0</td>\n",
       "      <td>3</td>\n",
       "      <td>0</td>\n",
       "      <td>35.0</td>\n",
       "      <td>0</td>\n",
       "      <td>0</td>\n",
       "      <td>8.0500</td>\n",
       "      <td>2</td>\n",
       "      <td>8</td>\n",
       "      <td>1</td>\n",
       "      <td>2</td>\n",
       "    </tr>\n",
       "  </tbody>\n",
       "</table>\n",
       "</div>"
      ],
      "text/plain": [
       "   Survived  Pclass  Sex   Age  SibSp  Parch     Fare  Embarked  Deck  \\\n",
       "0         0       3    0  22.0      1      0   7.2500         2     8   \n",
       "1         1       1    1  38.0      1      0  71.2833         0     2   \n",
       "2         1       3    1  26.0      0      0   7.9250         2     8   \n",
       "3         1       1    1  35.0      1      0  53.1000         2     2   \n",
       "4         0       3    0  35.0      0      0   8.0500         2     8   \n",
       "\n",
       "   FamilySize  Title  \n",
       "0           2      2  \n",
       "1           2      3  \n",
       "2           1      1  \n",
       "3           2      3  \n",
       "4           1      2  "
      ]
     },
     "execution_count": 74,
     "metadata": {},
     "output_type": "execute_result"
    }
   ],
   "source": [
    "training_set.head()"
   ]
  },
  {
   "cell_type": "markdown",
   "metadata": {},
   "source": [
    "We then denote correlation matrix to know correlation between Survived column with every another column. This information will be useful when we start to build the model"
   ]
  },
  {
   "cell_type": "code",
   "execution_count": 75,
   "metadata": {},
   "outputs": [
    {
     "data": {
      "text/html": [
       "<div>\n",
       "<style scoped>\n",
       "    .dataframe tbody tr th:only-of-type {\n",
       "        vertical-align: middle;\n",
       "    }\n",
       "\n",
       "    .dataframe tbody tr th {\n",
       "        vertical-align: top;\n",
       "    }\n",
       "\n",
       "    .dataframe thead th {\n",
       "        text-align: right;\n",
       "    }\n",
       "</style>\n",
       "<table border=\"1\" class=\"dataframe\">\n",
       "  <thead>\n",
       "    <tr style=\"text-align: right;\">\n",
       "      <th></th>\n",
       "      <th>Survived</th>\n",
       "      <th>Pclass</th>\n",
       "      <th>Sex</th>\n",
       "      <th>Age</th>\n",
       "      <th>SibSp</th>\n",
       "      <th>Parch</th>\n",
       "      <th>Fare</th>\n",
       "      <th>Embarked</th>\n",
       "      <th>Deck</th>\n",
       "      <th>FamilySize</th>\n",
       "      <th>Title</th>\n",
       "    </tr>\n",
       "  </thead>\n",
       "  <tbody>\n",
       "    <tr>\n",
       "      <th>Survived</th>\n",
       "      <td>1.000000</td>\n",
       "      <td>-0.338481</td>\n",
       "      <td>0.543351</td>\n",
       "      <td>-0.089402</td>\n",
       "      <td>-0.035322</td>\n",
       "      <td>0.081629</td>\n",
       "      <td>0.257307</td>\n",
       "      <td>-0.167675</td>\n",
       "      <td>-0.301116</td>\n",
       "      <td>0.016639</td>\n",
       "      <td>-0.071174</td>\n",
       "    </tr>\n",
       "    <tr>\n",
       "      <th>Pclass</th>\n",
       "      <td>-0.338481</td>\n",
       "      <td>1.000000</td>\n",
       "      <td>-0.131900</td>\n",
       "      <td>-0.343799</td>\n",
       "      <td>0.083081</td>\n",
       "      <td>0.018443</td>\n",
       "      <td>-0.549500</td>\n",
       "      <td>0.162098</td>\n",
       "      <td>0.746616</td>\n",
       "      <td>0.065997</td>\n",
       "      <td>-0.181177</td>\n",
       "    </tr>\n",
       "    <tr>\n",
       "      <th>Sex</th>\n",
       "      <td>0.543351</td>\n",
       "      <td>-0.131900</td>\n",
       "      <td>1.000000</td>\n",
       "      <td>-0.117476</td>\n",
       "      <td>0.114631</td>\n",
       "      <td>0.245489</td>\n",
       "      <td>0.182333</td>\n",
       "      <td>-0.108262</td>\n",
       "      <td>-0.123076</td>\n",
       "      <td>0.200988</td>\n",
       "      <td>-0.060299</td>\n",
       "    </tr>\n",
       "    <tr>\n",
       "      <th>Age</th>\n",
       "      <td>-0.089402</td>\n",
       "      <td>-0.343799</td>\n",
       "      <td>-0.117476</td>\n",
       "      <td>1.000000</td>\n",
       "      <td>-0.267659</td>\n",
       "      <td>-0.196902</td>\n",
       "      <td>0.091029</td>\n",
       "      <td>-0.024452</td>\n",
       "      <td>-0.252426</td>\n",
       "      <td>-0.281305</td>\n",
       "      <td>0.532807</td>\n",
       "    </tr>\n",
       "    <tr>\n",
       "      <th>SibSp</th>\n",
       "      <td>-0.035322</td>\n",
       "      <td>0.083081</td>\n",
       "      <td>0.114631</td>\n",
       "      <td>-0.267659</td>\n",
       "      <td>1.000000</td>\n",
       "      <td>0.414838</td>\n",
       "      <td>0.159651</td>\n",
       "      <td>0.068230</td>\n",
       "      <td>0.041540</td>\n",
       "      <td>0.890712</td>\n",
       "      <td>-0.209813</td>\n",
       "    </tr>\n",
       "    <tr>\n",
       "      <th>Parch</th>\n",
       "      <td>0.081629</td>\n",
       "      <td>0.018443</td>\n",
       "      <td>0.245489</td>\n",
       "      <td>-0.196902</td>\n",
       "      <td>0.414838</td>\n",
       "      <td>1.000000</td>\n",
       "      <td>0.216225</td>\n",
       "      <td>0.039798</td>\n",
       "      <td>-0.032548</td>\n",
       "      <td>0.783111</td>\n",
       "      <td>-0.117587</td>\n",
       "    </tr>\n",
       "    <tr>\n",
       "      <th>Fare</th>\n",
       "      <td>0.257307</td>\n",
       "      <td>-0.549500</td>\n",
       "      <td>0.182333</td>\n",
       "      <td>0.091029</td>\n",
       "      <td>0.159651</td>\n",
       "      <td>0.216225</td>\n",
       "      <td>1.000000</td>\n",
       "      <td>-0.224719</td>\n",
       "      <td>-0.523013</td>\n",
       "      <td>0.217138</td>\n",
       "      <td>-0.013273</td>\n",
       "    </tr>\n",
       "    <tr>\n",
       "      <th>Embarked</th>\n",
       "      <td>-0.167675</td>\n",
       "      <td>0.162098</td>\n",
       "      <td>-0.108262</td>\n",
       "      <td>-0.024452</td>\n",
       "      <td>0.068230</td>\n",
       "      <td>0.039798</td>\n",
       "      <td>-0.224719</td>\n",
       "      <td>1.000000</td>\n",
       "      <td>0.194255</td>\n",
       "      <td>0.066516</td>\n",
       "      <td>0.005207</td>\n",
       "    </tr>\n",
       "    <tr>\n",
       "      <th>Deck</th>\n",
       "      <td>-0.301116</td>\n",
       "      <td>0.746616</td>\n",
       "      <td>-0.123076</td>\n",
       "      <td>-0.252426</td>\n",
       "      <td>0.041540</td>\n",
       "      <td>-0.032548</td>\n",
       "      <td>-0.523013</td>\n",
       "      <td>0.194255</td>\n",
       "      <td>1.000000</td>\n",
       "      <td>0.012131</td>\n",
       "      <td>-0.095789</td>\n",
       "    </tr>\n",
       "    <tr>\n",
       "      <th>FamilySize</th>\n",
       "      <td>0.016639</td>\n",
       "      <td>0.065997</td>\n",
       "      <td>0.200988</td>\n",
       "      <td>-0.281305</td>\n",
       "      <td>0.890712</td>\n",
       "      <td>0.783111</td>\n",
       "      <td>0.217138</td>\n",
       "      <td>0.066516</td>\n",
       "      <td>0.012131</td>\n",
       "      <td>1.000000</td>\n",
       "      <td>-0.202145</td>\n",
       "    </tr>\n",
       "    <tr>\n",
       "      <th>Title</th>\n",
       "      <td>-0.071174</td>\n",
       "      <td>-0.181177</td>\n",
       "      <td>-0.060299</td>\n",
       "      <td>0.532807</td>\n",
       "      <td>-0.209813</td>\n",
       "      <td>-0.117587</td>\n",
       "      <td>-0.013273</td>\n",
       "      <td>0.005207</td>\n",
       "      <td>-0.095789</td>\n",
       "      <td>-0.202145</td>\n",
       "      <td>1.000000</td>\n",
       "    </tr>\n",
       "  </tbody>\n",
       "</table>\n",
       "</div>"
      ],
      "text/plain": [
       "            Survived    Pclass       Sex       Age     SibSp     Parch  \\\n",
       "Survived    1.000000 -0.338481  0.543351 -0.089402 -0.035322  0.081629   \n",
       "Pclass     -0.338481  1.000000 -0.131900 -0.343799  0.083081  0.018443   \n",
       "Sex         0.543351 -0.131900  1.000000 -0.117476  0.114631  0.245489   \n",
       "Age        -0.089402 -0.343799 -0.117476  1.000000 -0.267659 -0.196902   \n",
       "SibSp      -0.035322  0.083081  0.114631 -0.267659  1.000000  0.414838   \n",
       "Parch       0.081629  0.018443  0.245489 -0.196902  0.414838  1.000000   \n",
       "Fare        0.257307 -0.549500  0.182333  0.091029  0.159651  0.216225   \n",
       "Embarked   -0.167675  0.162098 -0.108262 -0.024452  0.068230  0.039798   \n",
       "Deck       -0.301116  0.746616 -0.123076 -0.252426  0.041540 -0.032548   \n",
       "FamilySize  0.016639  0.065997  0.200988 -0.281305  0.890712  0.783111   \n",
       "Title      -0.071174 -0.181177 -0.060299  0.532807 -0.209813 -0.117587   \n",
       "\n",
       "                Fare  Embarked      Deck  FamilySize     Title  \n",
       "Survived    0.257307 -0.167675 -0.301116    0.016639 -0.071174  \n",
       "Pclass     -0.549500  0.162098  0.746616    0.065997 -0.181177  \n",
       "Sex         0.182333 -0.108262 -0.123076    0.200988 -0.060299  \n",
       "Age         0.091029 -0.024452 -0.252426   -0.281305  0.532807  \n",
       "SibSp       0.159651  0.068230  0.041540    0.890712 -0.209813  \n",
       "Parch       0.216225  0.039798 -0.032548    0.783111 -0.117587  \n",
       "Fare        1.000000 -0.224719 -0.523013    0.217138 -0.013273  \n",
       "Embarked   -0.224719  1.000000  0.194255    0.066516  0.005207  \n",
       "Deck       -0.523013  0.194255  1.000000    0.012131 -0.095789  \n",
       "FamilySize  0.217138  0.066516  0.012131    1.000000 -0.202145  \n",
       "Title      -0.013273  0.005207 -0.095789   -0.202145  1.000000  "
      ]
     },
     "execution_count": 75,
     "metadata": {},
     "output_type": "execute_result"
    }
   ],
   "source": [
    "training_set.corr()"
   ]
  },
  {
   "cell_type": "code",
   "execution_count": 76,
   "metadata": {},
   "outputs": [
    {
     "name": "stdout",
     "output_type": "stream",
     "text": [
      "<class 'pandas.core.frame.DataFrame'>\n",
      "RangeIndex: 891 entries, 0 to 890\n",
      "Data columns (total 11 columns):\n",
      " #   Column      Non-Null Count  Dtype  \n",
      "---  ------      --------------  -----  \n",
      " 0   Survived    891 non-null    int64  \n",
      " 1   Pclass      891 non-null    int64  \n",
      " 2   Sex         891 non-null    int64  \n",
      " 3   Age         891 non-null    float64\n",
      " 4   SibSp       891 non-null    int64  \n",
      " 5   Parch       891 non-null    int64  \n",
      " 6   Fare        891 non-null    float64\n",
      " 7   Embarked    891 non-null    int64  \n",
      " 8   Deck        891 non-null    int32  \n",
      " 9   FamilySize  891 non-null    int64  \n",
      " 10  Title       891 non-null    int64  \n",
      "dtypes: float64(2), int32(1), int64(8)\n",
      "memory usage: 73.2 KB\n"
     ]
    }
   ],
   "source": [
    "training_set.info()"
   ]
  },
  {
   "cell_type": "markdown",
   "metadata": {},
   "source": [
    "Finally, data is already prepared and ready to deploy into model"
   ]
  }
 ],
 "metadata": {
  "kernelspec": {
   "display_name": "Tensorflow",
   "language": "python",
   "name": "tensorflow"
  },
  "language_info": {
   "codemirror_mode": {
    "name": "ipython",
    "version": 3
   },
   "file_extension": ".py",
   "mimetype": "text/x-python",
   "name": "python",
   "nbconvert_exporter": "python",
   "pygments_lexer": "ipython3",
   "version": "3.8.2"
  }
 },
 "nbformat": 4,
 "nbformat_minor": 4
}
